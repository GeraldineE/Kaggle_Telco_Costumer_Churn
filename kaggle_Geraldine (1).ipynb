{
  "nbformat": 4,
  "nbformat_minor": 0,
  "metadata": {
    "colab": {
      "name": "Evaluacion_Geraldine.ipynb",
      "provenance": []
    },
    "kernelspec": {
      "name": "python3",
      "display_name": "Python 3"
    }
  },
  "cells": [
    {
      "cell_type": "code",
      "metadata": {
        "id": "gAHPCW1qw6-Z",
        "colab_type": "code",
        "colab": {
          "base_uri": "https://localhost:8080/",
          "height": 71
        },
        "outputId": "6400e802-733d-4956-ff95-24330d898624"
      },
      "source": [
        "import pandas as pd\n",
        "import numpy as np\n",
        "\n",
        "import pandas as pd \n",
        "import matplotlib.pyplot as plt\n",
        "import seaborn as sb\n",
        "from scipy.stats import norm, skew\n",
        "import seaborn as sns\n",
        "\n",
        "from sklearn.model_selection import train_test_split\n",
        "from sklearn.metrics import roc_auc_score,roc_curve\n",
        "from sklearn.model_selection import train_test_split\n"
      ],
      "execution_count": 1,
      "outputs": [
        {
          "output_type": "stream",
          "text": [
            "/usr/local/lib/python3.6/dist-packages/statsmodels/tools/_testing.py:19: FutureWarning: pandas.util.testing is deprecated. Use the functions in the public API at pandas.testing instead.\n",
            "  import pandas.util.testing as tm\n"
          ],
          "name": "stderr"
        }
      ]
    },
    {
      "cell_type": "markdown",
      "metadata": {
        "id": "Mz5DWLwrZVX5",
        "colab_type": "text"
      },
      "source": [
        "#Analisis Exploratorio"
      ]
    },
    {
      "cell_type": "code",
      "metadata": {
        "id": "uAdr6e_ORciG",
        "colab_type": "code",
        "colab": {
          "base_uri": "https://localhost:8080/",
          "height": 309
        },
        "outputId": "e6fee2cb-126c-4de6-b237-36a6f3817912"
      },
      "source": [
        "#Cargamos los datos\n",
        "data=pd.read_csv('WA_Fn-UseC_-Telco-Customer-Churn.csv')\n",
        "data.head()"
      ],
      "execution_count": 2,
      "outputs": [
        {
          "output_type": "execute_result",
          "data": {
            "text/html": [
              "<div>\n",
              "<style scoped>\n",
              "    .dataframe tbody tr th:only-of-type {\n",
              "        vertical-align: middle;\n",
              "    }\n",
              "\n",
              "    .dataframe tbody tr th {\n",
              "        vertical-align: top;\n",
              "    }\n",
              "\n",
              "    .dataframe thead th {\n",
              "        text-align: right;\n",
              "    }\n",
              "</style>\n",
              "<table border=\"1\" class=\"dataframe\">\n",
              "  <thead>\n",
              "    <tr style=\"text-align: right;\">\n",
              "      <th></th>\n",
              "      <th>customerID</th>\n",
              "      <th>gender</th>\n",
              "      <th>SeniorCitizen</th>\n",
              "      <th>Partner</th>\n",
              "      <th>Dependents</th>\n",
              "      <th>tenure</th>\n",
              "      <th>PhoneService</th>\n",
              "      <th>MultipleLines</th>\n",
              "      <th>InternetService</th>\n",
              "      <th>OnlineSecurity</th>\n",
              "      <th>OnlineBackup</th>\n",
              "      <th>DeviceProtection</th>\n",
              "      <th>TechSupport</th>\n",
              "      <th>StreamingTV</th>\n",
              "      <th>StreamingMovies</th>\n",
              "      <th>Contract</th>\n",
              "      <th>PaperlessBilling</th>\n",
              "      <th>PaymentMethod</th>\n",
              "      <th>MonthlyCharges</th>\n",
              "      <th>TotalCharges</th>\n",
              "      <th>Churn</th>\n",
              "    </tr>\n",
              "  </thead>\n",
              "  <tbody>\n",
              "    <tr>\n",
              "      <th>0</th>\n",
              "      <td>7590-VHVEG</td>\n",
              "      <td>Female</td>\n",
              "      <td>0</td>\n",
              "      <td>Yes</td>\n",
              "      <td>No</td>\n",
              "      <td>1</td>\n",
              "      <td>No</td>\n",
              "      <td>No phone service</td>\n",
              "      <td>DSL</td>\n",
              "      <td>No</td>\n",
              "      <td>Yes</td>\n",
              "      <td>No</td>\n",
              "      <td>No</td>\n",
              "      <td>No</td>\n",
              "      <td>No</td>\n",
              "      <td>Month-to-month</td>\n",
              "      <td>Yes</td>\n",
              "      <td>Electronic check</td>\n",
              "      <td>29.85</td>\n",
              "      <td>29.85</td>\n",
              "      <td>No</td>\n",
              "    </tr>\n",
              "    <tr>\n",
              "      <th>1</th>\n",
              "      <td>5575-GNVDE</td>\n",
              "      <td>Male</td>\n",
              "      <td>0</td>\n",
              "      <td>No</td>\n",
              "      <td>No</td>\n",
              "      <td>34</td>\n",
              "      <td>Yes</td>\n",
              "      <td>No</td>\n",
              "      <td>DSL</td>\n",
              "      <td>Yes</td>\n",
              "      <td>No</td>\n",
              "      <td>Yes</td>\n",
              "      <td>No</td>\n",
              "      <td>No</td>\n",
              "      <td>No</td>\n",
              "      <td>One year</td>\n",
              "      <td>No</td>\n",
              "      <td>Mailed check</td>\n",
              "      <td>56.95</td>\n",
              "      <td>1889.5</td>\n",
              "      <td>No</td>\n",
              "    </tr>\n",
              "    <tr>\n",
              "      <th>2</th>\n",
              "      <td>3668-QPYBK</td>\n",
              "      <td>Male</td>\n",
              "      <td>0</td>\n",
              "      <td>No</td>\n",
              "      <td>No</td>\n",
              "      <td>2</td>\n",
              "      <td>Yes</td>\n",
              "      <td>No</td>\n",
              "      <td>DSL</td>\n",
              "      <td>Yes</td>\n",
              "      <td>Yes</td>\n",
              "      <td>No</td>\n",
              "      <td>No</td>\n",
              "      <td>No</td>\n",
              "      <td>No</td>\n",
              "      <td>Month-to-month</td>\n",
              "      <td>Yes</td>\n",
              "      <td>Mailed check</td>\n",
              "      <td>53.85</td>\n",
              "      <td>108.15</td>\n",
              "      <td>Yes</td>\n",
              "    </tr>\n",
              "    <tr>\n",
              "      <th>3</th>\n",
              "      <td>7795-CFOCW</td>\n",
              "      <td>Male</td>\n",
              "      <td>0</td>\n",
              "      <td>No</td>\n",
              "      <td>No</td>\n",
              "      <td>45</td>\n",
              "      <td>No</td>\n",
              "      <td>No phone service</td>\n",
              "      <td>DSL</td>\n",
              "      <td>Yes</td>\n",
              "      <td>No</td>\n",
              "      <td>Yes</td>\n",
              "      <td>Yes</td>\n",
              "      <td>No</td>\n",
              "      <td>No</td>\n",
              "      <td>One year</td>\n",
              "      <td>No</td>\n",
              "      <td>Bank transfer (automatic)</td>\n",
              "      <td>42.30</td>\n",
              "      <td>1840.75</td>\n",
              "      <td>No</td>\n",
              "    </tr>\n",
              "    <tr>\n",
              "      <th>4</th>\n",
              "      <td>9237-HQITU</td>\n",
              "      <td>Female</td>\n",
              "      <td>0</td>\n",
              "      <td>No</td>\n",
              "      <td>No</td>\n",
              "      <td>2</td>\n",
              "      <td>Yes</td>\n",
              "      <td>No</td>\n",
              "      <td>Fiber optic</td>\n",
              "      <td>No</td>\n",
              "      <td>No</td>\n",
              "      <td>No</td>\n",
              "      <td>No</td>\n",
              "      <td>No</td>\n",
              "      <td>No</td>\n",
              "      <td>Month-to-month</td>\n",
              "      <td>Yes</td>\n",
              "      <td>Electronic check</td>\n",
              "      <td>70.70</td>\n",
              "      <td>151.65</td>\n",
              "      <td>Yes</td>\n",
              "    </tr>\n",
              "  </tbody>\n",
              "</table>\n",
              "</div>"
            ],
            "text/plain": [
              "   customerID  gender  SeniorCitizen  ... MonthlyCharges TotalCharges  Churn\n",
              "0  7590-VHVEG  Female              0  ...          29.85        29.85     No\n",
              "1  5575-GNVDE    Male              0  ...          56.95       1889.5     No\n",
              "2  3668-QPYBK    Male              0  ...          53.85       108.15    Yes\n",
              "3  7795-CFOCW    Male              0  ...          42.30      1840.75     No\n",
              "4  9237-HQITU  Female              0  ...          70.70       151.65    Yes\n",
              "\n",
              "[5 rows x 21 columns]"
            ]
          },
          "metadata": {
            "tags": []
          },
          "execution_count": 2
        }
      ]
    },
    {
      "cell_type": "code",
      "metadata": {
        "id": "poMHWUo0ZOCl",
        "colab_type": "code",
        "colab": {
          "base_uri": "https://localhost:8080/",
          "height": 34
        },
        "outputId": "88207b9e-2e4a-47d6-c742-1dd8bb6c2856"
      },
      "source": [
        "data.shape"
      ],
      "execution_count": 3,
      "outputs": [
        {
          "output_type": "execute_result",
          "data": {
            "text/plain": [
              "(7043, 21)"
            ]
          },
          "metadata": {
            "tags": []
          },
          "execution_count": 3
        }
      ]
    },
    {
      "cell_type": "markdown",
      "metadata": {
        "id": "tY4iMEp3S4Yd",
        "colab_type": "text"
      },
      "source": [
        "#####De lo anterior podemos observar que tenemos 7043 observaciones y 21 caracterisiticas"
      ]
    },
    {
      "cell_type": "code",
      "metadata": {
        "id": "ibc4eyoa7a2i",
        "colab_type": "code",
        "colab": {
          "base_uri": "https://localhost:8080/",
          "height": 297
        },
        "outputId": "abd4ae45-5833-4142-9e43-2e34a4150b6a"
      },
      "source": [
        "#A continuacion se presentan algunos detalles estadisticos. \n",
        "data.describe()"
      ],
      "execution_count": 4,
      "outputs": [
        {
          "output_type": "execute_result",
          "data": {
            "text/html": [
              "<div>\n",
              "<style scoped>\n",
              "    .dataframe tbody tr th:only-of-type {\n",
              "        vertical-align: middle;\n",
              "    }\n",
              "\n",
              "    .dataframe tbody tr th {\n",
              "        vertical-align: top;\n",
              "    }\n",
              "\n",
              "    .dataframe thead th {\n",
              "        text-align: right;\n",
              "    }\n",
              "</style>\n",
              "<table border=\"1\" class=\"dataframe\">\n",
              "  <thead>\n",
              "    <tr style=\"text-align: right;\">\n",
              "      <th></th>\n",
              "      <th>SeniorCitizen</th>\n",
              "      <th>tenure</th>\n",
              "      <th>MonthlyCharges</th>\n",
              "    </tr>\n",
              "  </thead>\n",
              "  <tbody>\n",
              "    <tr>\n",
              "      <th>count</th>\n",
              "      <td>7043.000000</td>\n",
              "      <td>7043.000000</td>\n",
              "      <td>7043.000000</td>\n",
              "    </tr>\n",
              "    <tr>\n",
              "      <th>mean</th>\n",
              "      <td>0.162147</td>\n",
              "      <td>32.371149</td>\n",
              "      <td>64.761692</td>\n",
              "    </tr>\n",
              "    <tr>\n",
              "      <th>std</th>\n",
              "      <td>0.368612</td>\n",
              "      <td>24.559481</td>\n",
              "      <td>30.090047</td>\n",
              "    </tr>\n",
              "    <tr>\n",
              "      <th>min</th>\n",
              "      <td>0.000000</td>\n",
              "      <td>0.000000</td>\n",
              "      <td>18.250000</td>\n",
              "    </tr>\n",
              "    <tr>\n",
              "      <th>25%</th>\n",
              "      <td>0.000000</td>\n",
              "      <td>9.000000</td>\n",
              "      <td>35.500000</td>\n",
              "    </tr>\n",
              "    <tr>\n",
              "      <th>50%</th>\n",
              "      <td>0.000000</td>\n",
              "      <td>29.000000</td>\n",
              "      <td>70.350000</td>\n",
              "    </tr>\n",
              "    <tr>\n",
              "      <th>75%</th>\n",
              "      <td>0.000000</td>\n",
              "      <td>55.000000</td>\n",
              "      <td>89.850000</td>\n",
              "    </tr>\n",
              "    <tr>\n",
              "      <th>max</th>\n",
              "      <td>1.000000</td>\n",
              "      <td>72.000000</td>\n",
              "      <td>118.750000</td>\n",
              "    </tr>\n",
              "  </tbody>\n",
              "</table>\n",
              "</div>"
            ],
            "text/plain": [
              "       SeniorCitizen       tenure  MonthlyCharges\n",
              "count    7043.000000  7043.000000     7043.000000\n",
              "mean        0.162147    32.371149       64.761692\n",
              "std         0.368612    24.559481       30.090047\n",
              "min         0.000000     0.000000       18.250000\n",
              "25%         0.000000     9.000000       35.500000\n",
              "50%         0.000000    29.000000       70.350000\n",
              "75%         0.000000    55.000000       89.850000\n",
              "max         1.000000    72.000000      118.750000"
            ]
          },
          "metadata": {
            "tags": []
          },
          "execution_count": 4
        }
      ]
    },
    {
      "cell_type": "code",
      "metadata": {
        "id": "PixOEKEFXl2G",
        "colab_type": "code",
        "colab": {
          "base_uri": "https://localhost:8080/",
          "height": 85
        },
        "outputId": "6e983829-e3f3-4ecb-92fe-9a84d50fc9b2"
      },
      "source": [
        "#Contando la cantidad de datos\n",
        "data.dtypes.value_counts()"
      ],
      "execution_count": 5,
      "outputs": [
        {
          "output_type": "execute_result",
          "data": {
            "text/plain": [
              "object     18\n",
              "int64       2\n",
              "float64     1\n",
              "dtype: int64"
            ]
          },
          "metadata": {
            "tags": []
          },
          "execution_count": 5
        }
      ]
    },
    {
      "cell_type": "code",
      "metadata": {
        "id": "mhGKZXRhbzkm",
        "colab_type": "code",
        "colab": {
          "base_uri": "https://localhost:8080/",
          "height": 493
        },
        "outputId": "7b1643a3-4260-4f43-9e98-18346d85f478"
      },
      "source": [
        "data.info()"
      ],
      "execution_count": 6,
      "outputs": [
        {
          "output_type": "stream",
          "text": [
            "<class 'pandas.core.frame.DataFrame'>\n",
            "RangeIndex: 7043 entries, 0 to 7042\n",
            "Data columns (total 21 columns):\n",
            " #   Column            Non-Null Count  Dtype  \n",
            "---  ------            --------------  -----  \n",
            " 0   customerID        7043 non-null   object \n",
            " 1   gender            7043 non-null   object \n",
            " 2   SeniorCitizen     7043 non-null   int64  \n",
            " 3   Partner           7043 non-null   object \n",
            " 4   Dependents        7043 non-null   object \n",
            " 5   tenure            7043 non-null   int64  \n",
            " 6   PhoneService      7043 non-null   object \n",
            " 7   MultipleLines     7043 non-null   object \n",
            " 8   InternetService   7043 non-null   object \n",
            " 9   OnlineSecurity    7043 non-null   object \n",
            " 10  OnlineBackup      7043 non-null   object \n",
            " 11  DeviceProtection  7043 non-null   object \n",
            " 12  TechSupport       7043 non-null   object \n",
            " 13  StreamingTV       7043 non-null   object \n",
            " 14  StreamingMovies   7043 non-null   object \n",
            " 15  Contract          7043 non-null   object \n",
            " 16  PaperlessBilling  7043 non-null   object \n",
            " 17  PaymentMethod     7043 non-null   object \n",
            " 18  MonthlyCharges    7043 non-null   float64\n",
            " 19  TotalCharges      7043 non-null   object \n",
            " 20  Churn             7043 non-null   object \n",
            "dtypes: float64(1), int64(2), object(18)\n",
            "memory usage: 1.1+ MB\n"
          ],
          "name": "stdout"
        }
      ]
    },
    {
      "cell_type": "markdown",
      "metadata": {
        "id": "MpL-evLFe084",
        "colab_type": "text"
      },
      "source": [
        "######De lo anterior podemos ver que TotalCharges esta en object, por ende debemos convertirlo en numerico"
      ]
    },
    {
      "cell_type": "code",
      "metadata": {
        "id": "idtu-E2BiNEV",
        "colab_type": "code",
        "colab": {}
      },
      "source": [
        "#Convirtiendo el totalcharges\n",
        "data['TotalCharges'] = data['TotalCharges'].replace(r'\\s+', np.nan, regex=True)\n",
        "data['TotalCharges'] = pd.to_numeric(data['TotalCharges'])"
      ],
      "execution_count": 7,
      "outputs": []
    },
    {
      "cell_type": "code",
      "metadata": {
        "id": "EtrXU7aCixVH",
        "colab_type": "code",
        "colab": {
          "base_uri": "https://localhost:8080/",
          "height": 493
        },
        "outputId": "766904b6-f478-4220-d631-c4861c319d2d"
      },
      "source": [
        "#Si volvemos a ejecturar la info vemos que el totalcharges ya quedo convertido a un valor numerico\n",
        "data.info()"
      ],
      "execution_count": 8,
      "outputs": [
        {
          "output_type": "stream",
          "text": [
            "<class 'pandas.core.frame.DataFrame'>\n",
            "RangeIndex: 7043 entries, 0 to 7042\n",
            "Data columns (total 21 columns):\n",
            " #   Column            Non-Null Count  Dtype  \n",
            "---  ------            --------------  -----  \n",
            " 0   customerID        7043 non-null   object \n",
            " 1   gender            7043 non-null   object \n",
            " 2   SeniorCitizen     7043 non-null   int64  \n",
            " 3   Partner           7043 non-null   object \n",
            " 4   Dependents        7043 non-null   object \n",
            " 5   tenure            7043 non-null   int64  \n",
            " 6   PhoneService      7043 non-null   object \n",
            " 7   MultipleLines     7043 non-null   object \n",
            " 8   InternetService   7043 non-null   object \n",
            " 9   OnlineSecurity    7043 non-null   object \n",
            " 10  OnlineBackup      7043 non-null   object \n",
            " 11  DeviceProtection  7043 non-null   object \n",
            " 12  TechSupport       7043 non-null   object \n",
            " 13  StreamingTV       7043 non-null   object \n",
            " 14  StreamingMovies   7043 non-null   object \n",
            " 15  Contract          7043 non-null   object \n",
            " 16  PaperlessBilling  7043 non-null   object \n",
            " 17  PaymentMethod     7043 non-null   object \n",
            " 18  MonthlyCharges    7043 non-null   float64\n",
            " 19  TotalCharges      7032 non-null   float64\n",
            " 20  Churn             7043 non-null   object \n",
            "dtypes: float64(2), int64(2), object(17)\n",
            "memory usage: 1.1+ MB\n"
          ],
          "name": "stdout"
        }
      ]
    },
    {
      "cell_type": "code",
      "metadata": {
        "id": "EUYqW1p_xsWS",
        "colab_type": "code",
        "colab": {
          "base_uri": "https://localhost:8080/",
          "height": 34
        },
        "outputId": "bfc7e9a4-4145-4656-882c-056b485a7e8f"
      },
      "source": [
        "#Analizando valores perdidos o nulos\n",
        "data.isnull().any().any()"
      ],
      "execution_count": 9,
      "outputs": [
        {
          "output_type": "execute_result",
          "data": {
            "text/plain": [
              "True"
            ]
          },
          "metadata": {
            "tags": []
          },
          "execution_count": 9
        }
      ]
    },
    {
      "cell_type": "markdown",
      "metadata": {
        "id": "IFZh80Bmxw9F",
        "colab_type": "text"
      },
      "source": [
        "######De lo anterior podemos ver que valores perdidos o nulos es True, lo que indica que tenemos valores faltantes en el dataset[texto del enlace](https://)"
      ]
    },
    {
      "cell_type": "code",
      "metadata": {
        "id": "3-hNjmLZxIbq",
        "colab_type": "code",
        "colab": {
          "base_uri": "https://localhost:8080/",
          "height": 391
        },
        "outputId": "7fb907f2-5cb2-45b1-a534-7146afbe3c45"
      },
      "source": [
        "#Vamos a identificar cuales son los vaores perdidos en nuestro dataset y la cantidad\n",
        "missing_val = data.isnull().sum()\n",
        "missing_val"
      ],
      "execution_count": 10,
      "outputs": [
        {
          "output_type": "execute_result",
          "data": {
            "text/plain": [
              "customerID           0\n",
              "gender               0\n",
              "SeniorCitizen        0\n",
              "Partner              0\n",
              "Dependents           0\n",
              "tenure               0\n",
              "PhoneService         0\n",
              "MultipleLines        0\n",
              "InternetService      0\n",
              "OnlineSecurity       0\n",
              "OnlineBackup         0\n",
              "DeviceProtection     0\n",
              "TechSupport          0\n",
              "StreamingTV          0\n",
              "StreamingMovies      0\n",
              "Contract             0\n",
              "PaperlessBilling     0\n",
              "PaymentMethod        0\n",
              "MonthlyCharges       0\n",
              "TotalCharges        11\n",
              "Churn                0\n",
              "dtype: int64"
            ]
          },
          "metadata": {
            "tags": []
          },
          "execution_count": 10
        }
      ]
    },
    {
      "cell_type": "markdown",
      "metadata": {
        "id": "8HxEMKXmxk0S",
        "colab_type": "text"
      },
      "source": [
        "#####Vemos que tenemos 11 valores perdidos o nulos en TotalCharges\n"
      ]
    },
    {
      "cell_type": "code",
      "metadata": {
        "id": "mhyy1zkOyHts",
        "colab_type": "code",
        "colab": {
          "base_uri": "https://localhost:8080/",
          "height": 295
        },
        "outputId": "eaed3bd8-4ebe-40ad-aaf3-7e1851f01b5c"
      },
      "source": [
        "#histograma valores perdidos\n",
        "missing_val.plot(kind='hist')\n",
        "plt.ylabel('frequencia')\n",
        "plt.xlabel('valores')\n",
        "plt.title('Histograma')\n",
        "plt.show()"
      ],
      "execution_count": 11,
      "outputs": [
        {
          "output_type": "display_data",
          "data": {
            "image/png": "[encoded data removed]",
            "text/plain": [
              "<Figure size 432x288 with 1 Axes>"
            ]
          },
          "metadata": {
            "tags": [],
            "needs_background": "light"
          }
        }
      ]
    },
    {
      "cell_type": "code",
      "metadata": {
        "id": "mC0eA9qDzMVT",
        "colab_type": "code",
        "colab": {
          "base_uri": "https://localhost:8080/",
          "height": 391
        },
        "outputId": "15583430-1f2a-4350-dc79-4d570bbeff5d"
      },
      "source": [
        "#Porcentaje de valores perdidos\n",
        "missing_val_percent = 100 * data.isnull().sum() / len(data)\n",
        "missing_val_percent"
      ],
      "execution_count": 12,
      "outputs": [
        {
          "output_type": "execute_result",
          "data": {
            "text/plain": [
              "customerID          0.000000\n",
              "gender              0.000000\n",
              "SeniorCitizen       0.000000\n",
              "Partner             0.000000\n",
              "Dependents          0.000000\n",
              "tenure              0.000000\n",
              "PhoneService        0.000000\n",
              "MultipleLines       0.000000\n",
              "InternetService     0.000000\n",
              "OnlineSecurity      0.000000\n",
              "OnlineBackup        0.000000\n",
              "DeviceProtection    0.000000\n",
              "TechSupport         0.000000\n",
              "StreamingTV         0.000000\n",
              "StreamingMovies     0.000000\n",
              "Contract            0.000000\n",
              "PaperlessBilling    0.000000\n",
              "PaymentMethod       0.000000\n",
              "MonthlyCharges      0.000000\n",
              "TotalCharges        0.156183\n",
              "Churn               0.000000\n",
              "dtype: float64"
            ]
          },
          "metadata": {
            "tags": []
          },
          "execution_count": 12
        }
      ]
    },
    {
      "cell_type": "markdown",
      "metadata": {
        "id": "qk6-EAgYz3jq",
        "colab_type": "text"
      },
      "source": [
        "De lo anterior podemos ver el porcentaje de valores perdidos, en este caos es el 15% de valor perdido en TotalCharges"
      ]
    },
    {
      "cell_type": "code",
      "metadata": {
        "id": "Eu4cElN70Eby",
        "colab_type": "code",
        "colab": {
          "base_uri": "https://localhost:8080/",
          "height": 34
        },
        "outputId": "9cdf85cd-105c-42af-abf9-b3f49873e087"
      },
      "source": [
        "# Total valores faltantes\n",
        "total = np.product(data.shape)\n",
        "total_missing = missing_val.sum()\n",
        "total_missing\n"
      ],
      "execution_count": 13,
      "outputs": [
        {
          "output_type": "execute_result",
          "data": {
            "text/plain": [
              "11"
            ]
          },
          "metadata": {
            "tags": []
          },
          "execution_count": 13
        }
      ]
    },
    {
      "cell_type": "code",
      "metadata": {
        "id": "d-XWxyoD0-r-",
        "colab_type": "code",
        "colab": {
          "base_uri": "https://localhost:8080/",
          "height": 34
        },
        "outputId": "0af82b5f-7a2b-4b63-8c62-cf0c1dd1b8f5"
      },
      "source": [
        "# porcentaje de valores faltantes\n",
        "(total_missing/total) * 100"
      ],
      "execution_count": 14,
      "outputs": [
        {
          "output_type": "execute_result",
          "data": {
            "text/plain": [
              "0.00743730688356558"
            ]
          },
          "metadata": {
            "tags": []
          },
          "execution_count": 14
        }
      ]
    },
    {
      "cell_type": "markdown",
      "metadata": {
        "id": "N8blrJ4O0jER",
        "colab_type": "text"
      },
      "source": [
        "De lo anterior vemos que el porcentaje de valores faltante es  un porcentaje bajo, siendo esto podemos llenarlo con la media, o dejarlo así, en este caso decidí llenarlo con la media. "
      ]
    },
    {
      "cell_type": "code",
      "metadata": {
        "id": "foGWCTUd0huq",
        "colab_type": "code",
        "colab": {
          "base_uri": "https://localhost:8080/",
          "height": 34
        },
        "outputId": "931477d0-011a-467b-ba61-f5332ad189bf"
      },
      "source": [
        "# porcentaje de valores faltantes\n",
        "(total_missing/total) * 100"
      ],
      "execution_count": 15,
      "outputs": [
        {
          "output_type": "execute_result",
          "data": {
            "text/plain": [
              "0.00743730688356558"
            ]
          },
          "metadata": {
            "tags": []
          },
          "execution_count": 15
        }
      ]
    },
    {
      "cell_type": "markdown",
      "metadata": {
        "id": "QB7w7Px41WEU",
        "colab_type": "text"
      },
      "source": [
        "#**Llenando valores perdidos**"
      ]
    },
    {
      "cell_type": "code",
      "metadata": {
        "id": "dmtjgsnT1bdn",
        "colab_type": "code",
        "colab": {
          "base_uri": "https://localhost:8080/",
          "height": 119
        },
        "outputId": "480a05e8-112b-4cd4-d55b-c78d2659be74"
      },
      "source": [
        "columnas = data.columns  \n",
        "columnas"
      ],
      "execution_count": 16,
      "outputs": [
        {
          "output_type": "execute_result",
          "data": {
            "text/plain": [
              "Index(['customerID', 'gender', 'SeniorCitizen', 'Partner', 'Dependents',\n",
              "       'tenure', 'PhoneService', 'MultipleLines', 'InternetService',\n",
              "       'OnlineSecurity', 'OnlineBackup', 'DeviceProtection', 'TechSupport',\n",
              "       'StreamingTV', 'StreamingMovies', 'Contract', 'PaperlessBilling',\n",
              "       'PaymentMethod', 'MonthlyCharges', 'TotalCharges', 'Churn'],\n",
              "      dtype='object')"
            ]
          },
          "metadata": {
            "tags": []
          },
          "execution_count": 16
        }
      ]
    },
    {
      "cell_type": "code",
      "metadata": {
        "id": "IJq3LEXu4BvU",
        "colab_type": "code",
        "colab": {
          "base_uri": "https://localhost:8080/",
          "height": 136
        },
        "outputId": "5763d1d3-1b29-4eaa-ad6a-812efafca186"
      },
      "source": [
        "# Agrupando columnas por tipos\n",
        "data_type = data.columns.to_series().groupby(data.dtypes).groups\n",
        "data_type"
      ],
      "execution_count": 17,
      "outputs": [
        {
          "output_type": "execute_result",
          "data": {
            "text/plain": [
              "{dtype('int64'): Index(['SeniorCitizen', 'tenure'], dtype='object'),\n",
              " dtype('float64'): Index(['MonthlyCharges', 'TotalCharges'], dtype='object'),\n",
              " dtype('O'): Index(['customerID', 'gender', 'Partner', 'Dependents', 'PhoneService',\n",
              "        'MultipleLines', 'InternetService', 'OnlineSecurity', 'OnlineBackup',\n",
              "        'DeviceProtection', 'TechSupport', 'StreamingTV', 'StreamingMovies',\n",
              "        'Contract', 'PaperlessBilling', 'PaymentMethod', 'Churn'],\n",
              "       dtype='object')}"
            ]
          },
          "metadata": {
            "tags": []
          },
          "execution_count": 17
        }
      ]
    },
    {
      "cell_type": "code",
      "metadata": {
        "id": "xZDP-gBt4NUo",
        "colab_type": "code",
        "colab": {
          "base_uri": "https://localhost:8080/",
          "height": 34
        },
        "outputId": "4667c93e-5755-4ecb-9005-62401590345d"
      },
      "source": [
        "# Columnas categoricas\n",
        "colums_cat = data_type[np.dtype('object')]  \n",
        "len(colums_cat)"
      ],
      "execution_count": 18,
      "outputs": [
        {
          "output_type": "execute_result",
          "data": {
            "text/plain": [
              "17"
            ]
          },
          "metadata": {
            "tags": []
          },
          "execution_count": 18
        }
      ]
    },
    {
      "cell_type": "markdown",
      "metadata": {
        "id": "uOwj5FCd5px_",
        "colab_type": "text"
      },
      "source": [
        "Se tiene 17 columnas categoricas de 21 columnas"
      ]
    },
    {
      "cell_type": "code",
      "metadata": {
        "id": "W4dxfsKw7FXg",
        "colab_type": "code",
        "colab": {
          "base_uri": "https://localhost:8080/",
          "height": 34
        },
        "outputId": "d2ae9601-4a8f-4a17-d3ff-661e70463ae7"
      },
      "source": [
        "# Columnas numericas\n",
        "columnas = data.columns  \n",
        "colums_num = list(set(columnas) - set(colums_cat))\n",
        "len(colums_num)"
      ],
      "execution_count": 19,
      "outputs": [
        {
          "output_type": "execute_result",
          "data": {
            "text/plain": [
              "4"
            ]
          },
          "metadata": {
            "tags": []
          },
          "execution_count": 19
        }
      ]
    },
    {
      "cell_type": "markdown",
      "metadata": {
        "id": "TYUpOqR97PUs",
        "colab_type": "text"
      },
      "source": [
        "Se tienen 4 columnas numericas de 21 columnas"
      ]
    },
    {
      "cell_type": "code",
      "metadata": {
        "id": "_vmw27Gt7bAv",
        "colab_type": "code",
        "colab": {}
      },
      "source": [
        "#llenando valores perdidos con la media. LLenamos solo de la categoria numerica\n",
        "#De la categoria categorica no tenemos valores perdidos como pudiemos ver atras\n",
        "for i in colums_num:\n",
        "    media = data[i].mean()\n",
        "    data[i] = data[i].fillna(media)"
      ],
      "execution_count": 20,
      "outputs": []
    },
    {
      "cell_type": "code",
      "metadata": {
        "id": "WtI6C8De70aK",
        "colab_type": "code",
        "colab": {
          "base_uri": "https://localhost:8080/",
          "height": 34
        },
        "outputId": "a9f830df-8685-47e1-a337-c4e77a14e6e5"
      },
      "source": [
        "#Verificamos que no hayan valores perdidos o nulos\n",
        "data.isnull().any().any()"
      ],
      "execution_count": 21,
      "outputs": [
        {
          "output_type": "execute_result",
          "data": {
            "text/plain": [
              "False"
            ]
          },
          "metadata": {
            "tags": []
          },
          "execution_count": 21
        }
      ]
    },
    {
      "cell_type": "markdown",
      "metadata": {
        "id": "hbvogvE977Ru",
        "colab_type": "text"
      },
      "source": [
        "Como podemos ver ya no tenemos valores perdidos"
      ]
    },
    {
      "cell_type": "code",
      "metadata": {
        "id": "8_iF76Ge8Ucn",
        "colab_type": "code",
        "colab": {
          "base_uri": "https://localhost:8080/",
          "height": 85
        },
        "outputId": "2a7e62c9-113b-484e-b756-e06611085052"
      },
      "source": [
        "#Ahora vamos a ver el balanceo\n",
        "data.groupby('Churn').size()"
      ],
      "execution_count": 22,
      "outputs": [
        {
          "output_type": "execute_result",
          "data": {
            "text/plain": [
              "Churn\n",
              "No     5174\n",
              "Yes    1869\n",
              "dtype: int64"
            ]
          },
          "metadata": {
            "tags": []
          },
          "execution_count": 22
        }
      ]
    },
    {
      "cell_type": "markdown",
      "metadata": {
        "id": "Q8o3mLX6-4sl",
        "colab_type": "text"
      },
      "source": [
        "Como vemos tenemos 5174 Churn que no se fueron en el ultimo mes y 1869 clientes que si se fueron en e ultimo mes.  Esta diferencia quiere decir que tenemos una cantidad desbalanceada entre los que SI y los que NO."
      ]
    },
    {
      "cell_type": "code",
      "metadata": {
        "id": "PGVnbgKf_51Y",
        "colab_type": "code",
        "colab": {
          "base_uri": "https://localhost:8080/",
          "height": 440
        },
        "outputId": "7ccfda30-e010-4646-a16d-d96b76b84df9"
      },
      "source": [
        "# Visualizacion grafica de las columnas Churn para saber ver la diferencia de la cantidad de personas que se fueron en el último mes. \n",
        "sb.factorplot('Churn',data=data,kind=\"count\")\n"
      ],
      "execution_count": 23,
      "outputs": [
        {
          "output_type": "stream",
          "text": [
            "/usr/local/lib/python3.6/dist-packages/seaborn/categorical.py:3666: UserWarning: The `factorplot` function has been renamed to `catplot`. The original name will be removed in a future release. Please update your code. Note that the default `kind` in `factorplot` (`'point'`) has changed `'strip'` in `catplot`.\n",
            "  warnings.warn(msg)\n"
          ],
          "name": "stderr"
        },
        {
          "output_type": "execute_result",
          "data": {
            "text/plain": [
              "<seaborn.axisgrid.FacetGrid at 0x7f0bd7ba56d8>"
            ]
          },
          "metadata": {
            "tags": []
          },
          "execution_count": 23
        },
        {
          "output_type": "display_data",
          "data": {
            "image/png": "[encoded data removed]",
            "text/plain": [
              "<Figure size 360x360 with 1 Axes>"
            ]
          },
          "metadata": {
            "tags": [],
            "needs_background": "light"
          }
        }
      ]
    },
    {
      "cell_type": "code",
      "metadata": {
        "id": "YpvsNvrNDKGW",
        "colab_type": "code",
        "colab": {
          "base_uri": "https://localhost:8080/",
          "height": 68
        },
        "outputId": "41ebe21b-aeb1-4e8a-ed9f-f27b1be9563e"
      },
      "source": [
        "# Porcentaje de cantidad de personas que se fueron en el ultimo mes\n",
        "100 * data['Churn'].value_counts() / len(data['Churn'])"
      ],
      "execution_count": 24,
      "outputs": [
        {
          "output_type": "execute_result",
          "data": {
            "text/plain": [
              "No     73.463013\n",
              "Yes    26.536987\n",
              "Name: Churn, dtype: float64"
            ]
          },
          "metadata": {
            "tags": []
          },
          "execution_count": 24
        }
      ]
    },
    {
      "cell_type": "markdown",
      "metadata": {
        "id": "VHctf_idEGny",
        "colab_type": "text"
      },
      "source": [
        "Como podemos ver hay un porcentaje evidente, de 73.464% de no abandono y de 26.53% de abandono en el ultimo mes, hay una notable diferencia lo que implica que si este desbalanceado"
      ]
    },
    {
      "cell_type": "code",
      "metadata": {
        "id": "_7GI3-gRFWoE",
        "colab_type": "code",
        "colab": {
          "base_uri": "https://localhost:8080/",
          "height": 85
        },
        "outputId": "49168d49-c471-4221-ce87-8a2e584854a3"
      },
      "source": [
        "#Ahora vamos a ver el balanceo en gender\n",
        "data.groupby('gender').size()"
      ],
      "execution_count": 25,
      "outputs": [
        {
          "output_type": "execute_result",
          "data": {
            "text/plain": [
              "gender\n",
              "Female    3488\n",
              "Male      3555\n",
              "dtype: int64"
            ]
          },
          "metadata": {
            "tags": []
          },
          "execution_count": 25
        }
      ]
    },
    {
      "cell_type": "markdown",
      "metadata": {
        "id": "Kj_JKTbbFact",
        "colab_type": "text"
      },
      "source": [
        "Como podemos ver es casi igual la cantidad entre estos dos."
      ]
    },
    {
      "cell_type": "code",
      "metadata": {
        "id": "9CgsLkicE9FW",
        "colab_type": "code",
        "colab": {
          "base_uri": "https://localhost:8080/",
          "height": 440
        },
        "outputId": "ff90d67d-d20c-4736-ec16-bf379cdde771"
      },
      "source": [
        "# Visualizacion grafica de las columnas gender\n",
        "sb.factorplot('gender',data=data,kind=\"count\")"
      ],
      "execution_count": 26,
      "outputs": [
        {
          "output_type": "stream",
          "text": [
            "/usr/local/lib/python3.6/dist-packages/seaborn/categorical.py:3666: UserWarning: The `factorplot` function has been renamed to `catplot`. The original name will be removed in a future release. Please update your code. Note that the default `kind` in `factorplot` (`'point'`) has changed `'strip'` in `catplot`.\n",
            "  warnings.warn(msg)\n"
          ],
          "name": "stderr"
        },
        {
          "output_type": "execute_result",
          "data": {
            "text/plain": [
              "<seaborn.axisgrid.FacetGrid at 0x7f0bd81a8b00>"
            ]
          },
          "metadata": {
            "tags": []
          },
          "execution_count": 26
        },
        {
          "output_type": "display_data",
          "data": {
            "image/png": "[encoded data removed]",
            "text/plain": [
              "<Figure size 360x360 with 1 Axes>"
            ]
          },
          "metadata": {
            "tags": [],
            "needs_background": "light"
          }
        }
      ]
    },
    {
      "cell_type": "markdown",
      "metadata": {
        "id": "lbDM4hwPFKPy",
        "colab_type": "text"
      },
      "source": [
        "Podemos observar en la grafica que es casi igual de hombres y mujeres"
      ]
    },
    {
      "cell_type": "code",
      "metadata": {
        "id": "W6dQQF-7C6TD",
        "colab_type": "code",
        "colab": {
          "base_uri": "https://localhost:8080/",
          "height": 142
        },
        "outputId": "83aaef3a-fc59-4321-e465-16cc58603c98"
      },
      "source": [
        " # tabla de contingencia en porcentajes relativos entre Churn y gender para ver la diferencia de abandono por genero\n",
        "pd.crosstab(index=data['Churn'], columns=data['gender'] ).apply(lambda r: r/r.sum() *100, axis=0)"
      ],
      "execution_count": 27,
      "outputs": [
        {
          "output_type": "execute_result",
          "data": {
            "text/html": [
              "<div>\n",
              "<style scoped>\n",
              "    .dataframe tbody tr th:only-of-type {\n",
              "        vertical-align: middle;\n",
              "    }\n",
              "\n",
              "    .dataframe tbody tr th {\n",
              "        vertical-align: top;\n",
              "    }\n",
              "\n",
              "    .dataframe thead th {\n",
              "        text-align: right;\n",
              "    }\n",
              "</style>\n",
              "<table border=\"1\" class=\"dataframe\">\n",
              "  <thead>\n",
              "    <tr style=\"text-align: right;\">\n",
              "      <th>gender</th>\n",
              "      <th>Female</th>\n",
              "      <th>Male</th>\n",
              "    </tr>\n",
              "    <tr>\n",
              "      <th>Churn</th>\n",
              "      <th></th>\n",
              "      <th></th>\n",
              "    </tr>\n",
              "  </thead>\n",
              "  <tbody>\n",
              "    <tr>\n",
              "      <th>No</th>\n",
              "      <td>73.079128</td>\n",
              "      <td>73.839662</td>\n",
              "    </tr>\n",
              "    <tr>\n",
              "      <th>Yes</th>\n",
              "      <td>26.920872</td>\n",
              "      <td>26.160338</td>\n",
              "    </tr>\n",
              "  </tbody>\n",
              "</table>\n",
              "</div>"
            ],
            "text/plain": [
              "gender     Female       Male\n",
              "Churn                       \n",
              "No      73.079128  73.839662\n",
              "Yes     26.920872  26.160338"
            ]
          },
          "metadata": {
            "tags": []
          },
          "execution_count": 27
        }
      ]
    },
    {
      "cell_type": "markdown",
      "metadata": {
        "id": "LI7s4Kz_D7sP",
        "colab_type": "text"
      },
      "source": [
        "Como podemos ver el porcentaje de abandono es casi igual de hombres y mujeres. "
      ]
    },
    {
      "cell_type": "code",
      "metadata": {
        "id": "By_U1FzGBLd_",
        "colab_type": "code",
        "colab": {
          "base_uri": "https://localhost:8080/",
          "height": 440
        },
        "outputId": "149c55b5-8a1f-41e8-841c-aa121bf0c93a"
      },
      "source": [
        "#Aqui podemos ver cuantos hay de SeniorCitiezen\n",
        "sb.factorplot('SeniorCitizen',data=data,kind=\"count\")"
      ],
      "execution_count": 28,
      "outputs": [
        {
          "output_type": "stream",
          "text": [
            "/usr/local/lib/python3.6/dist-packages/seaborn/categorical.py:3666: UserWarning: The `factorplot` function has been renamed to `catplot`. The original name will be removed in a future release. Please update your code. Note that the default `kind` in `factorplot` (`'point'`) has changed `'strip'` in `catplot`.\n",
            "  warnings.warn(msg)\n"
          ],
          "name": "stderr"
        },
        {
          "output_type": "execute_result",
          "data": {
            "text/plain": [
              "<seaborn.axisgrid.FacetGrid at 0x7f0bd806b3c8>"
            ]
          },
          "metadata": {
            "tags": []
          },
          "execution_count": 28
        },
        {
          "output_type": "display_data",
          "data": {
            "image/png": "[encoded data removed]",
            "text/plain": [
              "<Figure size 360x360 with 1 Axes>"
            ]
          },
          "metadata": {
            "tags": [],
            "needs_background": "light"
          }
        }
      ]
    },
    {
      "cell_type": "code",
      "metadata": {
        "id": "dmwlqojoFnwW",
        "colab_type": "code",
        "colab": {
          "base_uri": "https://localhost:8080/",
          "height": 142
        },
        "outputId": "4268c681-8697-4bfd-c4c7-343bc500d2de"
      },
      "source": [
        " # tabla de contingencia en porcentajes relativos entre Churn y SeniorCitizen para ver la diferencia de abandono por genero\n",
        "pd.crosstab(index=data['Churn'], columns=data['SeniorCitizen'] ).apply(lambda r: r/r.sum() *100, axis=0)"
      ],
      "execution_count": 29,
      "outputs": [
        {
          "output_type": "execute_result",
          "data": {
            "text/html": [
              "<div>\n",
              "<style scoped>\n",
              "    .dataframe tbody tr th:only-of-type {\n",
              "        vertical-align: middle;\n",
              "    }\n",
              "\n",
              "    .dataframe tbody tr th {\n",
              "        vertical-align: top;\n",
              "    }\n",
              "\n",
              "    .dataframe thead th {\n",
              "        text-align: right;\n",
              "    }\n",
              "</style>\n",
              "<table border=\"1\" class=\"dataframe\">\n",
              "  <thead>\n",
              "    <tr style=\"text-align: right;\">\n",
              "      <th>SeniorCitizen</th>\n",
              "      <th>0</th>\n",
              "      <th>1</th>\n",
              "    </tr>\n",
              "    <tr>\n",
              "      <th>Churn</th>\n",
              "      <th></th>\n",
              "      <th></th>\n",
              "    </tr>\n",
              "  </thead>\n",
              "  <tbody>\n",
              "    <tr>\n",
              "      <th>No</th>\n",
              "      <td>76.393832</td>\n",
              "      <td>58.318739</td>\n",
              "    </tr>\n",
              "    <tr>\n",
              "      <th>Yes</th>\n",
              "      <td>23.606168</td>\n",
              "      <td>41.681261</td>\n",
              "    </tr>\n",
              "  </tbody>\n",
              "</table>\n",
              "</div>"
            ],
            "text/plain": [
              "SeniorCitizen          0          1\n",
              "Churn                              \n",
              "No             76.393832  58.318739\n",
              "Yes            23.606168  41.681261"
            ]
          },
          "metadata": {
            "tags": []
          },
          "execution_count": 29
        }
      ]
    },
    {
      "cell_type": "markdown",
      "metadata": {
        "id": "4VcmrW29Fw69",
        "colab_type": "text"
      },
      "source": [
        "Como podemos ver es casi el doble de personas mayores que han abandonado en el ultimo mes."
      ]
    },
    {
      "cell_type": "code",
      "metadata": {
        "id": "BzvKxS0-GR8S",
        "colab_type": "code",
        "colab": {
          "base_uri": "https://localhost:8080/",
          "height": 295
        },
        "outputId": "b8af7036-26a5-4f6c-f9fc-cc9edb82eed4"
      },
      "source": [
        "dt = data['TotalCharges']\n",
        "dt.plot(kind='hist')\n",
        "plt.ylabel('frequencia')\n",
        "plt.xlabel('valores')\n",
        "plt.title('Histograma')\n",
        "plt.show()"
      ],
      "execution_count": 30,
      "outputs": [
        {
          "output_type": "display_data",
          "data": {
            "image/png": "[encoded data removed]",
            "text/plain": [
              "<Figure size 432x288 with 1 Axes>"
            ]
          },
          "metadata": {
            "tags": [],
            "needs_background": "light"
          }
        }
      ]
    },
    {
      "cell_type": "markdown",
      "metadata": {
        "id": "1V0RRFFxISvD",
        "colab_type": "text"
      },
      "source": [
        "Del grafico anterior podemos ver que hay un maximo de un poco mas de 8000 valores con una frecuencia de un rango entre 0 a 500, y de valores minimos hay se ve que es desde un valor de 0 con una frecuencia entre 0 a 2500 de cargos totales"
      ]
    },
    {
      "cell_type": "code",
      "metadata": {
        "id": "nfRaTdWxHVsF",
        "colab_type": "code",
        "colab": {
          "base_uri": "https://localhost:8080/",
          "height": 170
        },
        "outputId": "133285bd-107f-4f52-d9a2-06e7c6c61af2"
      },
      "source": [
        "data['TotalCharges'].describe()"
      ],
      "execution_count": 31,
      "outputs": [
        {
          "output_type": "execute_result",
          "data": {
            "text/plain": [
              "count    7043.000000\n",
              "mean     2283.300441\n",
              "std      2265.000258\n",
              "min        18.800000\n",
              "25%       402.225000\n",
              "50%      1400.550000\n",
              "75%      3786.600000\n",
              "max      8684.800000\n",
              "Name: TotalCharges, dtype: float64"
            ]
          },
          "metadata": {
            "tags": []
          },
          "execution_count": 31
        }
      ]
    },
    {
      "cell_type": "code",
      "metadata": {
        "id": "5TUghp58JoKX",
        "colab_type": "code",
        "colab": {
          "base_uri": "https://localhost:8080/",
          "height": 279
        },
        "outputId": "d6f8bbd7-ae4b-4281-af8a-9879814f89e8"
      },
      "source": [
        "sb.distplot(data['TotalCharges'])\n",
        "plt.show()"
      ],
      "execution_count": 32,
      "outputs": [
        {
          "output_type": "display_data",
          "data": {
            "image/png": "[encoded data removed]",
            "text/plain": [
              "<Figure size 432x288 with 1 Axes>"
            ]
          },
          "metadata": {
            "tags": [],
            "needs_background": "light"
          }
        }
      ]
    },
    {
      "cell_type": "markdown",
      "metadata": {
        "id": "15dfKQm2KHns",
        "colab_type": "text"
      },
      "source": [
        "Como podemos ver tenemos una distribucion positiva o skew positiva, porque tiene una curva con inclinacion hacia la izquierda. Asi mismo estamos identificando que existe un conjunto de datos outliers"
      ]
    },
    {
      "cell_type": "code",
      "metadata": {
        "id": "-JEnIDZ1LkZx",
        "colab_type": "code",
        "colab": {
          "base_uri": "https://localhost:8080/",
          "height": 173
        },
        "outputId": "f5d0b309-4357-46f1-a763-ae120fd61a47"
      },
      "source": [
        "#Obtenemos el mayor valor de skew\n",
        "lista_col_num = [col for col in data.columns if data[col].dtype!='object']\n",
        "lista_col_skew = data[lista_col_num].apply(lambda x: skew(x.dropna())).sort_values(ascending=False) \n",
        "tabla_skew = pd.DataFrame({'Skew' :lista_col_skew}) \n",
        "tabla_skew.head(10)"
      ],
      "execution_count": 33,
      "outputs": [
        {
          "output_type": "execute_result",
          "data": {
            "text/html": [
              "<div>\n",
              "<style scoped>\n",
              "    .dataframe tbody tr th:only-of-type {\n",
              "        vertical-align: middle;\n",
              "    }\n",
              "\n",
              "    .dataframe tbody tr th {\n",
              "        vertical-align: top;\n",
              "    }\n",
              "\n",
              "    .dataframe thead th {\n",
              "        text-align: right;\n",
              "    }\n",
              "</style>\n",
              "<table border=\"1\" class=\"dataframe\">\n",
              "  <thead>\n",
              "    <tr style=\"text-align: right;\">\n",
              "      <th></th>\n",
              "      <th>Skew</th>\n",
              "    </tr>\n",
              "  </thead>\n",
              "  <tbody>\n",
              "    <tr>\n",
              "      <th>SeniorCitizen</th>\n",
              "      <td>1.833242</td>\n",
              "    </tr>\n",
              "    <tr>\n",
              "      <th>TotalCharges</th>\n",
              "      <td>0.962189</td>\n",
              "    </tr>\n",
              "    <tr>\n",
              "      <th>tenure</th>\n",
              "      <td>0.239489</td>\n",
              "    </tr>\n",
              "    <tr>\n",
              "      <th>MonthlyCharges</th>\n",
              "      <td>-0.220477</td>\n",
              "    </tr>\n",
              "  </tbody>\n",
              "</table>\n",
              "</div>"
            ],
            "text/plain": [
              "                    Skew\n",
              "SeniorCitizen   1.833242\n",
              "TotalCharges    0.962189\n",
              "tenure          0.239489\n",
              "MonthlyCharges -0.220477"
            ]
          },
          "metadata": {
            "tags": []
          },
          "execution_count": 33
        }
      ]
    },
    {
      "cell_type": "markdown",
      "metadata": {
        "id": "H6SzVVXnM_ls",
        "colab_type": "text"
      },
      "source": [
        "Como vemos tenemos como mayor numero de outliers a SeniorCitizen, seguido de TotalCarges"
      ]
    },
    {
      "cell_type": "code",
      "metadata": {
        "id": "JK2LFVbwLK69",
        "colab_type": "code",
        "colab": {}
      },
      "source": [
        "#Reemplazamos los outliers con percentil de 95 \n",
        "list_col_outliers=['SeniorCitizen','TotalCharges','tenure','MonthlyCharges']\n",
        "for col in list_col_outliers:\n",
        "  outliers = data[data[col] > data[col].quantile(.95)].index\n",
        "  data.loc[outliers,col] = data[col].quantile(.95)"
      ],
      "execution_count": 34,
      "outputs": []
    },
    {
      "cell_type": "markdown",
      "metadata": {
        "id": "AS1JLCIlOrXl",
        "colab_type": "text"
      },
      "source": [
        "#**Datos Relacionados**"
      ]
    },
    {
      "cell_type": "code",
      "metadata": {
        "id": "IMSzsdEWPbGq",
        "colab_type": "code",
        "colab": {
          "base_uri": "https://localhost:8080/",
          "height": 102
        },
        "outputId": "d81e8cf7-0023-43ca-8acd-9ddc84cb3332"
      },
      "source": [
        "correlation = data.corr()['TotalCharges'].sort_values()\n",
        "print(correlation)"
      ],
      "execution_count": 35,
      "outputs": [
        {
          "output_type": "stream",
          "text": [
            "SeniorCitizen     0.104124\n",
            "MonthlyCharges    0.643206\n",
            "tenure            0.830232\n",
            "TotalCharges      1.000000\n",
            "Name: TotalCharges, dtype: float64\n"
          ],
          "name": "stdout"
        }
      ]
    },
    {
      "cell_type": "code",
      "metadata": {
        "id": "WQDAwhLRQcnz",
        "colab_type": "code",
        "colab": {
          "base_uri": "https://localhost:8080/",
          "height": 102
        },
        "outputId": "91b95b2d-2478-47fd-b7a0-24e40946702a"
      },
      "source": [
        "correlation = data.corr()['SeniorCitizen'].sort_values()\n",
        "print(correlation)"
      ],
      "execution_count": 36,
      "outputs": [
        {
          "output_type": "stream",
          "text": [
            "tenure            0.016567\n",
            "TotalCharges      0.104124\n",
            "MonthlyCharges    0.221652\n",
            "SeniorCitizen     1.000000\n",
            "Name: SeniorCitizen, dtype: float64\n"
          ],
          "name": "stdout"
        }
      ]
    },
    {
      "cell_type": "markdown",
      "metadata": {
        "id": "UcZdeo5EPuaQ",
        "colab_type": "text"
      },
      "source": [
        "De lo anterior existe una gran correlacion con TotalCharges, y el que mas se acerca a 1 seria el tenure siendo esta una correlacion positiva y significativa, seguido por MonthlyCharges y SeniorCitizen."
      ]
    },
    {
      "cell_type": "code",
      "metadata": {
        "id": "WnsjFXcUOnZ9",
        "colab_type": "code",
        "colab": {
          "base_uri": "https://localhost:8080/",
          "height": 359
        },
        "outputId": "3e540366-08eb-4bc3-803e-3dd8dbab477a"
      },
      "source": [
        "data_corr = data[['TotalCharges', 'tenure', 'MonthlyCharges','SeniorCitizen']]\n",
        "data_corr.head(10)"
      ],
      "execution_count": 37,
      "outputs": [
        {
          "output_type": "execute_result",
          "data": {
            "text/html": [
              "<div>\n",
              "<style scoped>\n",
              "    .dataframe tbody tr th:only-of-type {\n",
              "        vertical-align: middle;\n",
              "    }\n",
              "\n",
              "    .dataframe tbody tr th {\n",
              "        vertical-align: top;\n",
              "    }\n",
              "\n",
              "    .dataframe thead th {\n",
              "        text-align: right;\n",
              "    }\n",
              "</style>\n",
              "<table border=\"1\" class=\"dataframe\">\n",
              "  <thead>\n",
              "    <tr style=\"text-align: right;\">\n",
              "      <th></th>\n",
              "      <th>TotalCharges</th>\n",
              "      <th>tenure</th>\n",
              "      <th>MonthlyCharges</th>\n",
              "      <th>SeniorCitizen</th>\n",
              "    </tr>\n",
              "  </thead>\n",
              "  <tbody>\n",
              "    <tr>\n",
              "      <th>0</th>\n",
              "      <td>29.85</td>\n",
              "      <td>1.0</td>\n",
              "      <td>29.85</td>\n",
              "      <td>0.0</td>\n",
              "    </tr>\n",
              "    <tr>\n",
              "      <th>1</th>\n",
              "      <td>1889.50</td>\n",
              "      <td>34.0</td>\n",
              "      <td>56.95</td>\n",
              "      <td>0.0</td>\n",
              "    </tr>\n",
              "    <tr>\n",
              "      <th>2</th>\n",
              "      <td>108.15</td>\n",
              "      <td>2.0</td>\n",
              "      <td>53.85</td>\n",
              "      <td>0.0</td>\n",
              "    </tr>\n",
              "    <tr>\n",
              "      <th>3</th>\n",
              "      <td>1840.75</td>\n",
              "      <td>45.0</td>\n",
              "      <td>42.30</td>\n",
              "      <td>0.0</td>\n",
              "    </tr>\n",
              "    <tr>\n",
              "      <th>4</th>\n",
              "      <td>151.65</td>\n",
              "      <td>2.0</td>\n",
              "      <td>70.70</td>\n",
              "      <td>0.0</td>\n",
              "    </tr>\n",
              "    <tr>\n",
              "      <th>5</th>\n",
              "      <td>820.50</td>\n",
              "      <td>8.0</td>\n",
              "      <td>99.65</td>\n",
              "      <td>0.0</td>\n",
              "    </tr>\n",
              "    <tr>\n",
              "      <th>6</th>\n",
              "      <td>1949.40</td>\n",
              "      <td>22.0</td>\n",
              "      <td>89.10</td>\n",
              "      <td>0.0</td>\n",
              "    </tr>\n",
              "    <tr>\n",
              "      <th>7</th>\n",
              "      <td>301.90</td>\n",
              "      <td>10.0</td>\n",
              "      <td>29.75</td>\n",
              "      <td>0.0</td>\n",
              "    </tr>\n",
              "    <tr>\n",
              "      <th>8</th>\n",
              "      <td>3046.05</td>\n",
              "      <td>28.0</td>\n",
              "      <td>104.80</td>\n",
              "      <td>0.0</td>\n",
              "    </tr>\n",
              "    <tr>\n",
              "      <th>9</th>\n",
              "      <td>3487.95</td>\n",
              "      <td>62.0</td>\n",
              "      <td>56.15</td>\n",
              "      <td>0.0</td>\n",
              "    </tr>\n",
              "  </tbody>\n",
              "</table>\n",
              "</div>"
            ],
            "text/plain": [
              "   TotalCharges  tenure  MonthlyCharges  SeniorCitizen\n",
              "0         29.85     1.0           29.85            0.0\n",
              "1       1889.50    34.0           56.95            0.0\n",
              "2        108.15     2.0           53.85            0.0\n",
              "3       1840.75    45.0           42.30            0.0\n",
              "4        151.65     2.0           70.70            0.0\n",
              "5        820.50     8.0           99.65            0.0\n",
              "6       1949.40    22.0           89.10            0.0\n",
              "7        301.90    10.0           29.75            0.0\n",
              "8       3046.05    28.0          104.80            0.0\n",
              "9       3487.95    62.0           56.15            0.0"
            ]
          },
          "metadata": {
            "tags": []
          },
          "execution_count": 37
        }
      ]
    },
    {
      "cell_type": "code",
      "metadata": {
        "id": "fE0eeyY8RP1p",
        "colab_type": "code",
        "colab": {
          "base_uri": "https://localhost:8080/",
          "height": 516
        },
        "outputId": "4c8b84be-453d-474c-d168-b32143b82ad9"
      },
      "source": [
        "# Grafico de correlaciones entre las variables\n",
        "f,ax = plt.subplots(figsize=(10, 8)) \n",
        "corr = data_corr.corr() \n",
        "sb.heatmap(corr, mask=np.zeros_like(corr, dtype=np.bool), cmap=sb.diverging_palette(250, 5, as_cmap=True), square=True, ax=ax) \n",
        "plt.title(\"MAPA DE CORRELACIONES\")"
      ],
      "execution_count": 38,
      "outputs": [
        {
          "output_type": "execute_result",
          "data": {
            "text/plain": [
              "Text(0.5, 1.0, 'MAPA DE CORRELACIONES')"
            ]
          },
          "metadata": {
            "tags": []
          },
          "execution_count": 38
        },
        {
          "output_type": "display_data",
          "data": {
            "image/png": "[encoded data removed]",
            "text/plain": [
              "<Figure size 720x576 with 2 Axes>"
            ]
          },
          "metadata": {
            "tags": [],
            "needs_background": "light"
          }
        }
      ]
    },
    {
      "cell_type": "markdown",
      "metadata": {
        "id": "LePpBZbMTBWZ",
        "colab_type": "text"
      },
      "source": [
        "\n",
        "Del grafico de anterior de correlaciones podemos notar que la correlacion alta es TotalCharges. Las correlaciones SeniorCitizen,MonthlyCharges,tenure son correlaciones positivas, y podemos ver que existe una correlacion mas fuerte entre TotalCharges Y tenure, lo que significa que paga mas con el tiempo, siguiendo de TotalCharges y MonthlyCharges, y por ultimo TotalCharges con SeniorCitizen."
      ]
    },
    {
      "cell_type": "markdown",
      "metadata": {
        "id": "KjIs3pXbOhR9",
        "colab_type": "text"
      },
      "source": [
        "#**Feature Engenering**"
      ]
    },
    {
      "cell_type": "markdown",
      "metadata": {
        "id": "I00oEoI-WfJg",
        "colab_type": "text"
      },
      "source": [
        "Primero se va a explorar los datos de acuerdo a las correlaciones"
      ]
    },
    {
      "cell_type": "code",
      "metadata": {
        "id": "_vlrl00FV7S3",
        "colab_type": "code",
        "colab": {
          "base_uri": "https://localhost:8080/",
          "height": 374
        },
        "outputId": "d4a2a46d-b56f-4e40-c2fe-c46d65db80bb"
      },
      "source": [
        "columns = list(data.columns)\n",
        "columns\n",
        "\n"
      ],
      "execution_count": 39,
      "outputs": [
        {
          "output_type": "execute_result",
          "data": {
            "text/plain": [
              "['customerID',\n",
              " 'gender',\n",
              " 'SeniorCitizen',\n",
              " 'Partner',\n",
              " 'Dependents',\n",
              " 'tenure',\n",
              " 'PhoneService',\n",
              " 'MultipleLines',\n",
              " 'InternetService',\n",
              " 'OnlineSecurity',\n",
              " 'OnlineBackup',\n",
              " 'DeviceProtection',\n",
              " 'TechSupport',\n",
              " 'StreamingTV',\n",
              " 'StreamingMovies',\n",
              " 'Contract',\n",
              " 'PaperlessBilling',\n",
              " 'PaymentMethod',\n",
              " 'MonthlyCharges',\n",
              " 'TotalCharges',\n",
              " 'Churn']"
            ]
          },
          "metadata": {
            "tags": []
          },
          "execution_count": 39
        }
      ]
    },
    {
      "cell_type": "code",
      "metadata": {
        "id": "nTjJF2e0ZzNx",
        "colab_type": "code",
        "colab": {}
      },
      "source": [
        "data['chageDifference'] = data['TotalCharges'] - data['tenure']*data['MonthlyCharges']"
      ],
      "execution_count": 40,
      "outputs": []
    },
    {
      "cell_type": "code",
      "metadata": {
        "id": "mWgcFlQxbM8S",
        "colab_type": "code",
        "colab": {}
      },
      "source": [
        "data['TotalCharges']  =  data['tenure']*data['MonthlyCharges']"
      ],
      "execution_count": 41,
      "outputs": []
    },
    {
      "cell_type": "code",
      "metadata": {
        "id": "BXQ10OzBWDkh",
        "colab_type": "code",
        "colab": {}
      },
      "source": [
        "cat_to_nums = {'gender':  {'Female': 0, 'Male': 1},\n",
        "               'Partner':  {'No': 0, 'Yes': 1},\n",
        "               'Dependents':  {'No': 0, 'Yes': 1},\n",
        "               'PhoneService':  {'No': 0, 'Yes': 1},\n",
        "               'MultipleLines':  {'No phone service': 0,'No': 1, 'Yes': 2},\n",
        "               'InternetService':  {'No': 0,'DSL': 1, 'Fiber optic': 2},\n",
        "               'OnlineSecurity':  {'No internet service': 0,'No': 1, 'Yes': 2},\n",
        "               'OnlineBackup':  {'No internet service': 0,'No': 1, 'Yes': 2},\n",
        "               'DeviceProtection':  {'No internet service': 0,'No': 1, 'Yes': 2},\n",
        "               'TechSupport':  {'No internet service': 0,'No': 1, 'Yes': 2},\n",
        "               'StreamingTV':  {'No internet service': 0,'No': 1, 'Yes': 2},\n",
        "               'StreamingMovies':  {'No internet service': 0,'No': 1, 'Yes': 2},\n",
        "               'Contract':  {'Month-to-month': 0, 'One year': 1, 'Two year': 2},\n",
        "               'PaperlessBilling':  {'No': 0, 'Yes': 1},\n",
        "               'Churn':  {'No': 0, 'Yes': 1}}\n",
        "data.replace(cat_to_nums, inplace = True)"
      ],
      "execution_count": 42,
      "outputs": []
    },
    {
      "cell_type": "markdown",
      "metadata": {
        "id": "N1Gg58OReCRT",
        "colab_type": "text"
      },
      "source": [
        "LABEL ENCODE"
      ]
    },
    {
      "cell_type": "code",
      "metadata": {
        "id": "mOdNlsV_eDpz",
        "colab_type": "code",
        "colab": {}
      },
      "source": [
        "cat_variables = [col for col in data.columns if data[col].dtype == 'object']"
      ],
      "execution_count": 43,
      "outputs": []
    },
    {
      "cell_type": "code",
      "metadata": {
        "id": "_hUZq4uteK26",
        "colab_type": "code",
        "colab": {}
      },
      "source": [
        "#Convertimos las palabras en números con la librería LabelEncoder\n",
        "from sklearn.preprocessing import LabelEncoder \n",
        "le = LabelEncoder()\n",
        "for cat in cat_variables:\n",
        "    le.fit(list(data[cat].values))\n",
        "    data[cat] = le.transform(data[cat])"
      ],
      "execution_count": 44,
      "outputs": []
    },
    {
      "cell_type": "markdown",
      "metadata": {
        "id": "oLfXzAvwfmTn",
        "colab_type": "text"
      },
      "source": [
        "#**Normalizamos**"
      ]
    },
    {
      "cell_type": "code",
      "metadata": {
        "id": "JZaEUWcSfqKX",
        "colab_type": "code",
        "colab": {
          "base_uri": "https://localhost:8080/",
          "height": 296
        },
        "outputId": "0b3db146-99af-4a77-e69f-43cd0b55cc89"
      },
      "source": [
        "sns.distplot(data['Churn'], fit = norm)"
      ],
      "execution_count": 45,
      "outputs": [
        {
          "output_type": "execute_result",
          "data": {
            "text/plain": [
              "<matplotlib.axes._subplots.AxesSubplot at 0x7f0bd3d84438>"
            ]
          },
          "metadata": {
            "tags": []
          },
          "execution_count": 45
        },
        {
          "output_type": "display_data",
          "data": {
            "image/png": "[encoded data removed]",
            "text/plain": [
              "<Figure size 432x288 with 1 Axes>"
            ]
          },
          "metadata": {
            "tags": [],
            "needs_background": "light"
          }
        }
      ]
    },
    {
      "cell_type": "code",
      "metadata": {
        "id": "_l5JbYWxfvFf",
        "colab_type": "code",
        "colab": {
          "base_uri": "https://localhost:8080/",
          "height": 299
        },
        "outputId": "cfc658a6-7f81-4321-e4a3-05371fc0325d"
      },
      "source": [
        "sns.distplot(data['TotalCharges'], fit = norm)"
      ],
      "execution_count": 46,
      "outputs": [
        {
          "output_type": "execute_result",
          "data": {
            "text/plain": [
              "<matplotlib.axes._subplots.AxesSubplot at 0x7f0bd3d84a58>"
            ]
          },
          "metadata": {
            "tags": []
          },
          "execution_count": 46
        },
        {
          "output_type": "display_data",
          "data": {
            "image/png": "[encoded data removed]",
            "text/plain": [
              "<Figure size 432x288 with 1 Axes>"
            ]
          },
          "metadata": {
            "tags": [],
            "needs_background": "light"
          }
        }
      ]
    },
    {
      "cell_type": "markdown",
      "metadata": {
        "id": "OwqWWbibf4-y",
        "colab_type": "text"
      },
      "source": [
        "Como podemos ver ya la distribuccion o skew positivo esta con distribucion normal "
      ]
    },
    {
      "cell_type": "code",
      "metadata": {
        "id": "OWX7eBhbmh0I",
        "colab_type": "code",
        "colab": {
          "base_uri": "https://localhost:8080/",
          "height": 323
        },
        "outputId": "0fecb2cc-734f-49c1-aa46-85f6d9b919ec"
      },
      "source": [
        "colums_num = ['tenure', 'TotalCharges', 'MonthlyCharges']\n",
        "no_colums_num = list(set(columns) - set(colums_num))\n",
        "no_colums_num"
      ],
      "execution_count": 47,
      "outputs": [
        {
          "output_type": "execute_result",
          "data": {
            "text/plain": [
              "['PaperlessBilling',\n",
              " 'DeviceProtection',\n",
              " 'gender',\n",
              " 'SeniorCitizen',\n",
              " 'StreamingMovies',\n",
              " 'Dependents',\n",
              " 'InternetService',\n",
              " 'StreamingTV',\n",
              " 'PaymentMethod',\n",
              " 'Partner',\n",
              " 'TechSupport',\n",
              " 'MultipleLines',\n",
              " 'Contract',\n",
              " 'Churn',\n",
              " 'customerID',\n",
              " 'OnlineBackup',\n",
              " 'PhoneService',\n",
              " 'OnlineSecurity']"
            ]
          },
          "metadata": {
            "tags": []
          },
          "execution_count": 47
        }
      ]
    },
    {
      "cell_type": "code",
      "metadata": {
        "id": "woBDNoPvmmy2",
        "colab_type": "code",
        "colab": {
          "base_uri": "https://localhost:8080/",
          "height": 224
        },
        "outputId": "ce646d27-337d-409e-b29f-f869e4f392b6"
      },
      "source": [
        "no_num_data = pd.get_dummies(data[no_colums_num], drop_first=True)\n",
        "no_num_data.sample(5)"
      ],
      "execution_count": 48,
      "outputs": [
        {
          "output_type": "execute_result",
          "data": {
            "text/html": [
              "<div>\n",
              "<style scoped>\n",
              "    .dataframe tbody tr th:only-of-type {\n",
              "        vertical-align: middle;\n",
              "    }\n",
              "\n",
              "    .dataframe tbody tr th {\n",
              "        vertical-align: top;\n",
              "    }\n",
              "\n",
              "    .dataframe thead th {\n",
              "        text-align: right;\n",
              "    }\n",
              "</style>\n",
              "<table border=\"1\" class=\"dataframe\">\n",
              "  <thead>\n",
              "    <tr style=\"text-align: right;\">\n",
              "      <th></th>\n",
              "      <th>PaperlessBilling</th>\n",
              "      <th>DeviceProtection</th>\n",
              "      <th>gender</th>\n",
              "      <th>SeniorCitizen</th>\n",
              "      <th>StreamingMovies</th>\n",
              "      <th>Dependents</th>\n",
              "      <th>InternetService</th>\n",
              "      <th>StreamingTV</th>\n",
              "      <th>PaymentMethod</th>\n",
              "      <th>Partner</th>\n",
              "      <th>TechSupport</th>\n",
              "      <th>MultipleLines</th>\n",
              "      <th>Contract</th>\n",
              "      <th>Churn</th>\n",
              "      <th>customerID</th>\n",
              "      <th>OnlineBackup</th>\n",
              "      <th>PhoneService</th>\n",
              "      <th>OnlineSecurity</th>\n",
              "    </tr>\n",
              "  </thead>\n",
              "  <tbody>\n",
              "    <tr>\n",
              "      <th>3589</th>\n",
              "      <td>0</td>\n",
              "      <td>1</td>\n",
              "      <td>1</td>\n",
              "      <td>0.0</td>\n",
              "      <td>2</td>\n",
              "      <td>1</td>\n",
              "      <td>1</td>\n",
              "      <td>1</td>\n",
              "      <td>0</td>\n",
              "      <td>1</td>\n",
              "      <td>1</td>\n",
              "      <td>2</td>\n",
              "      <td>0</td>\n",
              "      <td>0</td>\n",
              "      <td>6165</td>\n",
              "      <td>1</td>\n",
              "      <td>1</td>\n",
              "      <td>1</td>\n",
              "    </tr>\n",
              "    <tr>\n",
              "      <th>1611</th>\n",
              "      <td>1</td>\n",
              "      <td>2</td>\n",
              "      <td>0</td>\n",
              "      <td>0.0</td>\n",
              "      <td>2</td>\n",
              "      <td>0</td>\n",
              "      <td>1</td>\n",
              "      <td>2</td>\n",
              "      <td>0</td>\n",
              "      <td>1</td>\n",
              "      <td>2</td>\n",
              "      <td>2</td>\n",
              "      <td>2</td>\n",
              "      <td>0</td>\n",
              "      <td>1325</td>\n",
              "      <td>2</td>\n",
              "      <td>1</td>\n",
              "      <td>2</td>\n",
              "    </tr>\n",
              "    <tr>\n",
              "      <th>3692</th>\n",
              "      <td>1</td>\n",
              "      <td>2</td>\n",
              "      <td>0</td>\n",
              "      <td>0.0</td>\n",
              "      <td>1</td>\n",
              "      <td>1</td>\n",
              "      <td>1</td>\n",
              "      <td>2</td>\n",
              "      <td>0</td>\n",
              "      <td>1</td>\n",
              "      <td>1</td>\n",
              "      <td>2</td>\n",
              "      <td>0</td>\n",
              "      <td>0</td>\n",
              "      <td>5095</td>\n",
              "      <td>2</td>\n",
              "      <td>1</td>\n",
              "      <td>1</td>\n",
              "    </tr>\n",
              "    <tr>\n",
              "      <th>2144</th>\n",
              "      <td>1</td>\n",
              "      <td>1</td>\n",
              "      <td>1</td>\n",
              "      <td>0.0</td>\n",
              "      <td>1</td>\n",
              "      <td>0</td>\n",
              "      <td>1</td>\n",
              "      <td>1</td>\n",
              "      <td>3</td>\n",
              "      <td>0</td>\n",
              "      <td>2</td>\n",
              "      <td>1</td>\n",
              "      <td>0</td>\n",
              "      <td>0</td>\n",
              "      <td>1197</td>\n",
              "      <td>1</td>\n",
              "      <td>1</td>\n",
              "      <td>1</td>\n",
              "    </tr>\n",
              "    <tr>\n",
              "      <th>1909</th>\n",
              "      <td>0</td>\n",
              "      <td>0</td>\n",
              "      <td>1</td>\n",
              "      <td>0.0</td>\n",
              "      <td>0</td>\n",
              "      <td>1</td>\n",
              "      <td>0</td>\n",
              "      <td>0</td>\n",
              "      <td>3</td>\n",
              "      <td>1</td>\n",
              "      <td>0</td>\n",
              "      <td>1</td>\n",
              "      <td>1</td>\n",
              "      <td>0</td>\n",
              "      <td>2638</td>\n",
              "      <td>0</td>\n",
              "      <td>1</td>\n",
              "      <td>0</td>\n",
              "    </tr>\n",
              "  </tbody>\n",
              "</table>\n",
              "</div>"
            ],
            "text/plain": [
              "      PaperlessBilling  DeviceProtection  ...  PhoneService  OnlineSecurity\n",
              "3589                 0                 1  ...             1               1\n",
              "1611                 1                 2  ...             1               2\n",
              "3692                 1                 2  ...             1               1\n",
              "2144                 1                 1  ...             1               1\n",
              "1909                 0                 0  ...             1               0\n",
              "\n",
              "[5 rows x 18 columns]"
            ]
          },
          "metadata": {
            "tags": []
          },
          "execution_count": 48
        }
      ]
    },
    {
      "cell_type": "code",
      "metadata": {
        "id": "BzXV6-hmmsB1",
        "colab_type": "code",
        "colab": {
          "base_uri": "https://localhost:8080/",
          "height": 204
        },
        "outputId": "982f79a3-38be-4401-8c04-2ad1cb43c2da"
      },
      "source": [
        "from sklearn.preprocessing import scale\n",
        "numeric_data = pd.DataFrame(scale(data[colums_num]), index=data.index, columns=colums_num)\n",
        "numeric_data.head()"
      ],
      "execution_count": 49,
      "outputs": [
        {
          "output_type": "execute_result",
          "data": {
            "text/html": [
              "<div>\n",
              "<style scoped>\n",
              "    .dataframe tbody tr th:only-of-type {\n",
              "        vertical-align: middle;\n",
              "    }\n",
              "\n",
              "    .dataframe tbody tr th {\n",
              "        vertical-align: top;\n",
              "    }\n",
              "\n",
              "    .dataframe thead th {\n",
              "        text-align: right;\n",
              "    }\n",
              "</style>\n",
              "<table border=\"1\" class=\"dataframe\">\n",
              "  <thead>\n",
              "    <tr style=\"text-align: right;\">\n",
              "      <th></th>\n",
              "      <th>tenure</th>\n",
              "      <th>TotalCharges</th>\n",
              "      <th>MonthlyCharges</th>\n",
              "    </tr>\n",
              "  </thead>\n",
              "  <tbody>\n",
              "    <tr>\n",
              "      <th>0</th>\n",
              "      <td>-1.277445</td>\n",
              "      <td>-1.000654</td>\n",
              "      <td>-1.165793</td>\n",
              "    </tr>\n",
              "    <tr>\n",
              "      <th>1</th>\n",
              "      <td>0.066327</td>\n",
              "      <td>-0.147655</td>\n",
              "      <td>-0.255393</td>\n",
              "    </tr>\n",
              "    <tr>\n",
              "      <th>2</th>\n",
              "      <td>-1.236724</td>\n",
              "      <td>-0.965821</td>\n",
              "      <td>-0.359534</td>\n",
              "    </tr>\n",
              "    <tr>\n",
              "      <th>3</th>\n",
              "      <td>0.514251</td>\n",
              "      <td>-0.162330</td>\n",
              "      <td>-0.747546</td>\n",
              "    </tr>\n",
              "    <tr>\n",
              "      <th>4</th>\n",
              "      <td>-1.236724</td>\n",
              "      <td>-0.950743</td>\n",
              "      <td>0.206527</td>\n",
              "    </tr>\n",
              "  </tbody>\n",
              "</table>\n",
              "</div>"
            ],
            "text/plain": [
              "     tenure  TotalCharges  MonthlyCharges\n",
              "0 -1.277445     -1.000654       -1.165793\n",
              "1  0.066327     -0.147655       -0.255393\n",
              "2 -1.236724     -0.965821       -0.359534\n",
              "3  0.514251     -0.162330       -0.747546\n",
              "4 -1.236724     -0.950743        0.206527"
            ]
          },
          "metadata": {
            "tags": []
          },
          "execution_count": 49
        }
      ]
    },
    {
      "cell_type": "markdown",
      "metadata": {
        "id": "M-02TLfinRk3",
        "colab_type": "text"
      },
      "source": [
        "Convertir a una escala estandar "
      ]
    },
    {
      "cell_type": "code",
      "metadata": {
        "id": "DZhOrzbnmxJ7",
        "colab_type": "code",
        "colab": {
          "base_uri": "https://localhost:8080/",
          "height": 224
        },
        "outputId": "965c6c15-174b-4cf5-86c2-4ea6a91175bc"
      },
      "source": [
        "prepared_data = pd.concat([numeric_data, no_num_data], axis=1, sort=False)\n",
        "prepared_data.head()"
      ],
      "execution_count": 51,
      "outputs": [
        {
          "output_type": "execute_result",
          "data": {
            "text/html": [
              "<div>\n",
              "<style scoped>\n",
              "    .dataframe tbody tr th:only-of-type {\n",
              "        vertical-align: middle;\n",
              "    }\n",
              "\n",
              "    .dataframe tbody tr th {\n",
              "        vertical-align: top;\n",
              "    }\n",
              "\n",
              "    .dataframe thead th {\n",
              "        text-align: right;\n",
              "    }\n",
              "</style>\n",
              "<table border=\"1\" class=\"dataframe\">\n",
              "  <thead>\n",
              "    <tr style=\"text-align: right;\">\n",
              "      <th></th>\n",
              "      <th>tenure</th>\n",
              "      <th>TotalCharges</th>\n",
              "      <th>MonthlyCharges</th>\n",
              "      <th>PaperlessBilling</th>\n",
              "      <th>DeviceProtection</th>\n",
              "      <th>gender</th>\n",
              "      <th>SeniorCitizen</th>\n",
              "      <th>StreamingMovies</th>\n",
              "      <th>Dependents</th>\n",
              "      <th>InternetService</th>\n",
              "      <th>StreamingTV</th>\n",
              "      <th>PaymentMethod</th>\n",
              "      <th>Partner</th>\n",
              "      <th>TechSupport</th>\n",
              "      <th>MultipleLines</th>\n",
              "      <th>Contract</th>\n",
              "      <th>Churn</th>\n",
              "      <th>customerID</th>\n",
              "      <th>OnlineBackup</th>\n",
              "      <th>PhoneService</th>\n",
              "      <th>OnlineSecurity</th>\n",
              "    </tr>\n",
              "  </thead>\n",
              "  <tbody>\n",
              "    <tr>\n",
              "      <th>0</th>\n",
              "      <td>-1.277445</td>\n",
              "      <td>-1.000654</td>\n",
              "      <td>-1.165793</td>\n",
              "      <td>1</td>\n",
              "      <td>1</td>\n",
              "      <td>0</td>\n",
              "      <td>0.0</td>\n",
              "      <td>1</td>\n",
              "      <td>0</td>\n",
              "      <td>1</td>\n",
              "      <td>1</td>\n",
              "      <td>2</td>\n",
              "      <td>1</td>\n",
              "      <td>1</td>\n",
              "      <td>0</td>\n",
              "      <td>0</td>\n",
              "      <td>0</td>\n",
              "      <td>5375</td>\n",
              "      <td>2</td>\n",
              "      <td>0</td>\n",
              "      <td>1</td>\n",
              "    </tr>\n",
              "    <tr>\n",
              "      <th>1</th>\n",
              "      <td>0.066327</td>\n",
              "      <td>-0.147655</td>\n",
              "      <td>-0.255393</td>\n",
              "      <td>0</td>\n",
              "      <td>2</td>\n",
              "      <td>1</td>\n",
              "      <td>0.0</td>\n",
              "      <td>1</td>\n",
              "      <td>0</td>\n",
              "      <td>1</td>\n",
              "      <td>1</td>\n",
              "      <td>3</td>\n",
              "      <td>0</td>\n",
              "      <td>1</td>\n",
              "      <td>1</td>\n",
              "      <td>1</td>\n",
              "      <td>0</td>\n",
              "      <td>3962</td>\n",
              "      <td>1</td>\n",
              "      <td>1</td>\n",
              "      <td>2</td>\n",
              "    </tr>\n",
              "    <tr>\n",
              "      <th>2</th>\n",
              "      <td>-1.236724</td>\n",
              "      <td>-0.965821</td>\n",
              "      <td>-0.359534</td>\n",
              "      <td>1</td>\n",
              "      <td>1</td>\n",
              "      <td>1</td>\n",
              "      <td>0.0</td>\n",
              "      <td>1</td>\n",
              "      <td>0</td>\n",
              "      <td>1</td>\n",
              "      <td>1</td>\n",
              "      <td>3</td>\n",
              "      <td>0</td>\n",
              "      <td>1</td>\n",
              "      <td>1</td>\n",
              "      <td>0</td>\n",
              "      <td>1</td>\n",
              "      <td>2564</td>\n",
              "      <td>2</td>\n",
              "      <td>1</td>\n",
              "      <td>2</td>\n",
              "    </tr>\n",
              "    <tr>\n",
              "      <th>3</th>\n",
              "      <td>0.514251</td>\n",
              "      <td>-0.162330</td>\n",
              "      <td>-0.747546</td>\n",
              "      <td>0</td>\n",
              "      <td>2</td>\n",
              "      <td>1</td>\n",
              "      <td>0.0</td>\n",
              "      <td>1</td>\n",
              "      <td>0</td>\n",
              "      <td>1</td>\n",
              "      <td>1</td>\n",
              "      <td>0</td>\n",
              "      <td>0</td>\n",
              "      <td>2</td>\n",
              "      <td>0</td>\n",
              "      <td>1</td>\n",
              "      <td>0</td>\n",
              "      <td>5535</td>\n",
              "      <td>1</td>\n",
              "      <td>0</td>\n",
              "      <td>2</td>\n",
              "    </tr>\n",
              "    <tr>\n",
              "      <th>4</th>\n",
              "      <td>-1.236724</td>\n",
              "      <td>-0.950743</td>\n",
              "      <td>0.206527</td>\n",
              "      <td>1</td>\n",
              "      <td>1</td>\n",
              "      <td>0</td>\n",
              "      <td>0.0</td>\n",
              "      <td>1</td>\n",
              "      <td>0</td>\n",
              "      <td>2</td>\n",
              "      <td>1</td>\n",
              "      <td>2</td>\n",
              "      <td>0</td>\n",
              "      <td>1</td>\n",
              "      <td>1</td>\n",
              "      <td>0</td>\n",
              "      <td>1</td>\n",
              "      <td>6511</td>\n",
              "      <td>1</td>\n",
              "      <td>1</td>\n",
              "      <td>1</td>\n",
              "    </tr>\n",
              "  </tbody>\n",
              "</table>\n",
              "</div>"
            ],
            "text/plain": [
              "     tenure  TotalCharges  ...  PhoneService  OnlineSecurity\n",
              "0 -1.277445     -1.000654  ...             0               1\n",
              "1  0.066327     -0.147655  ...             1               2\n",
              "2 -1.236724     -0.965821  ...             1               2\n",
              "3  0.514251     -0.162330  ...             0               2\n",
              "4 -1.236724     -0.950743  ...             1               1\n",
              "\n",
              "[5 rows x 21 columns]"
            ]
          },
          "metadata": {
            "tags": []
          },
          "execution_count": 51
        }
      ]
    },
    {
      "cell_type": "markdown",
      "metadata": {
        "id": "Pbhur8Z9hZNA",
        "colab_type": "text"
      },
      "source": [
        "# **Split train test**"
      ]
    },
    {
      "cell_type": "code",
      "metadata": {
        "id": "oEpb6eF7fSfc",
        "colab_type": "code",
        "colab": {}
      },
      "source": [
        "X=data.iloc[:,0:-1]\n",
        "y=data['Churn']\n",
        "x_train,x_test,y_train,y_test=train_test_split(X,y,stratify=y)"
      ],
      "execution_count": 53,
      "outputs": []
    },
    {
      "cell_type": "code",
      "metadata": {
        "id": "pAJEYf2ukQ8T",
        "colab_type": "code",
        "colab": {
          "base_uri": "https://localhost:8080/",
          "height": 51
        },
        "outputId": "841d6df1-4294-450a-d334-26c66f7944ce"
      },
      "source": [
        "X_train, X_test, y_train, y_test = train_test_split(X, y, test_size=0.3, random_state=0)\n",
        "print (X_train.shape, y_train.shape)\n",
        "print (X_test.shape, y_test.shape)"
      ],
      "execution_count": 54,
      "outputs": [
        {
          "output_type": "stream",
          "text": [
            "(4930, 21) (4930,)\n",
            "(2113, 21) (2113,)\n"
          ],
          "name": "stdout"
        }
      ]
    },
    {
      "cell_type": "markdown",
      "metadata": {
        "id": "1NcA4D04ogwT",
        "colab_type": "text"
      },
      "source": [
        "#**Modelo Regresion lineal**"
      ]
    },
    {
      "cell_type": "code",
      "metadata": {
        "id": "wtJFhQF_okGO",
        "colab_type": "code",
        "colab": {}
      },
      "source": [
        "from sklearn.linear_model import LinearRegression\n",
        "lineal = LinearRegression()\n",
        "lineal.fit(X_train,y_train) \n",
        "predicciones_lineal = lineal.predict(X_test)"
      ],
      "execution_count": null,
      "outputs": []
    },
    {
      "cell_type": "code",
      "metadata": {
        "id": "34YGrpqNoxEM",
        "colab_type": "code",
        "colab": {}
      },
      "source": [
        "from sklearn.metrics import mean_squared_error\n",
        "print('La cantidad de error de la Regresión Lineal es :{0:.8f}'.format(np.sqrt(mean_squared_error(y_test,predicciones_lineal))))"
      ],
      "execution_count": null,
      "outputs": []
    },
    {
      "cell_type": "code",
      "metadata": {
        "id": "kjTFjP8gq5wN",
        "colab_type": "code",
        "colab": {}
      },
      "source": [
        "\"CELDA N°39\"\n",
        "#Graficamos en el eje X las predicciones de la Regresión Lineal y en el eje Y los datos reales \n",
        "plt.figure(figsize=(9,6))\n",
        "plt.xlabel('Regresión Lineal')\n",
        "plt.ylabel('Datos reales')\n",
        "sns.regplot(x=predicciones_lineal,y=y_test)"
      ],
      "execution_count": null,
      "outputs": []
    },
    {
      "cell_type": "code",
      "metadata": {
        "id": "6oaTcvy4rRmd",
        "colab_type": "code",
        "colab": {}
      },
      "source": [
        "# datos importando la librería ElasticNet\n",
        "from sklearn.linear_model import ElasticNet\n",
        "elastic = ElasticNet(alpha=0.0005,l1_ratio=0.5) \n",
        "elastic.fit(X_train,y_train)\n",
        "predicciones_elastic = elastic.predict(X_test) "
      ],
      "execution_count": null,
      "outputs": []
    },
    {
      "cell_type": "code",
      "metadata": {
        "id": "n4AsOKuvrUwD",
        "colab_type": "code",
        "colab": {}
      },
      "source": [
        "print('El error de la Regresión ElasticNet es :{0:.8f}'.format(np.sqrt(mean_squared_error(y_test,predicciones_elastic))))"
      ],
      "execution_count": null,
      "outputs": []
    },
    {
      "cell_type": "code",
      "metadata": {
        "id": "jomV4WwurmxR",
        "colab_type": "code",
        "colab": {}
      },
      "source": [
        "\n",
        "plt.figure(figsize=(9,6))\n",
        "plt.xlabel('Regresión ElasticNet')\n",
        "plt.ylabel('Datos reales')\n",
        "sns.regplot(x=predicciones_elastic,y=y_test)"
      ],
      "execution_count": null,
      "outputs": []
    },
    {
      "cell_type": "markdown",
      "metadata": {
        "id": "ETFwme7w0siO",
        "colab_type": "text"
      },
      "source": [
        "# **Random Forest**"
      ]
    },
    {
      "cell_type": "code",
      "metadata": {
        "id": "GuMgs-BC69RQ",
        "colab_type": "code",
        "colab": {}
      },
      "source": [
        "from sklearn.ensemble import RandomForestClassifier\n",
        "rnd_clf = RandomForestClassifier(n_estimators = 1000, n_jobs = -1,max_depth=3,random_state=1)\n",
        "rnd_clf.fit(X_train,y_train)\n",
        "PREDICCIONES_2 = rnd_clf.predict(X_test)"
      ],
      "execution_count": 61,
      "outputs": []
    },
    {
      "cell_type": "code",
      "metadata": {
        "id": "rNSgnG941P7t",
        "colab_type": "code",
        "colab": {
          "base_uri": "https://localhost:8080/",
          "height": 405
        },
        "outputId": "fb3fd94e-a1fb-4598-99d3-f642b9a3b492"
      },
      "source": [
        "from sklearn.metrics import confusion_matrix\n",
        "matriz_confusion = confusion_matrix(y_test,PREDICCIONES_2)\n",
        "plt.figure(figsize=(10,6))\n",
        "ax=sns.heatmap(matriz_confusion, annot = True, annot_kws={\"size\": 10}, fmt=\".1f\")\n",
        "ax.set_ylim((0,2))\n",
        "plt.xlabel('data')\n",
        "plt.ylabel('algoritmo')\n",
        "plt.plot()"
      ],
      "execution_count": 62,
      "outputs": [
        {
          "output_type": "execute_result",
          "data": {
            "text/plain": [
              "[]"
            ]
          },
          "metadata": {
            "tags": []
          },
          "execution_count": 62
        },
        {
          "output_type": "display_data",
          "data": {
            "image/png": "[encoded data removed]",
            "text/plain": [
              "<Figure size 720x432 with 2 Axes>"
            ]
          },
          "metadata": {
            "tags": [],
            "needs_background": "light"
          }
        }
      ]
    }
  ]
}